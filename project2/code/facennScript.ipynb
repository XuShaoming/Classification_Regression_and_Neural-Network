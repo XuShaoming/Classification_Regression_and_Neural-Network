{
 "cells": [
  {
   "cell_type": "code",
   "execution_count": 1,
   "metadata": {},
   "outputs": [],
   "source": [
    "import numpy as np\n",
    "import pickle\n",
    "from math import sqrt\n",
    "from scipy.optimize import minimize\n",
    "from scipy.io import loadmat"
   ]
  },
  {
   "cell_type": "code",
   "execution_count": 2,
   "metadata": {},
   "outputs": [],
   "source": [
    "# Do not change this\n",
    "def initializeWeights(n_in,n_out):\n",
    "    \"\"\"\n",
    "    # initializeWeights return the random weights for Neural Network given the\n",
    "    # number of node in the input layer and output layer\n",
    "\n",
    "    # Input:\n",
    "    # n_in: number of nodes of the input layer\n",
    "    # n_out: number of nodes of the output layer\n",
    "                            \n",
    "    # Output: \n",
    "    # W: matrix of random initial weights with size (n_out x (n_in + 1))\"\"\"\n",
    "    epsilon = sqrt(6) / sqrt(n_in + n_out + 1);\n",
    "    W = (np.random.rand(n_out, n_in + 1)*2* epsilon) - epsilon;\n",
    "    return W"
   ]
  },
  {
   "cell_type": "code",
   "execution_count": 3,
   "metadata": {},
   "outputs": [],
   "source": [
    "# Replace this with your sigmoid implementation\n",
    "def sigmoid(z):\n",
    "    return  1.0 / (1.0 + np.exp(-z))"
   ]
  },
  {
   "cell_type": "code",
   "execution_count": 4,
   "metadata": {},
   "outputs": [],
   "source": [
    "# Replace this with your nnObjFunction implementation\n",
    "def nnObjFunction(params, *args):\n",
    "    \n",
    "    n_input, n_hidden, n_class, training_data, training_label, lambdaval = args\n",
    "\n",
    "    w1 = params[0:n_hidden * (n_input + 1)].reshape((n_hidden, (n_input + 1)))\n",
    "    w2 = params[(n_hidden * (n_input + 1)):].reshape((n_class, (n_hidden + 1)))\n",
    "    obj_val = 0\n",
    "\n",
    "    # Your code here\n",
    "    #\n",
    "    #\n",
    "    #\n",
    "    #\n",
    "    #\n",
    "\n",
    "    N = training_data.shape[0]\n",
    "    \n",
    "    # forwardfeed first layer\n",
    "    training_data_ = np.hstack((training_data, np.zeros((training_data.shape[0], 1))))\n",
    "    a = np.dot(training_data_, w1.T)\n",
    "    z = sigmoid(a)\n",
    "    \n",
    "    # forwardfeed second layer\n",
    "    z_ = np.hstack((z, np.zeros((z.shape[0], 1))))\n",
    "    b = np.dot(z_, w2.T)\n",
    "    o = sigmoid(b)\n",
    "    \n",
    "    # compute error function\n",
    "    # N * 10\n",
    "    label_matrix = np.zeros((o.shape[0], n_class))\n",
    "    label_matrix[range(N), training_label.astype(int)] = 1\n",
    "    \n",
    "    obj_val = - np.sum(np.log(o) * label_matrix + (1 - label_matrix) * np.log(1 - o)) / N\n",
    "    \n",
    "    # add regularization\n",
    "    obj_val += lambdaval / (2 * N) * (np.sum(w1 * w1) + np.sum(w2 * w2))\n",
    "     \n",
    "    diff = o - label_matrix\n",
    "    # l * N * N * (m+1s)\n",
    "    dw2 = np.dot(diff.T, z_) / N\n",
    "    dw2 += (lambdaval / N) * w2\n",
    "    \n",
    "    # N * m\n",
    "    formal12_2 = np.dot(diff, w2)[:,:-1]\n",
    "    # N * m\n",
    "    formal12_1 = (1.0 - z) * z\n",
    "    # N * m\n",
    "    formal12_1_2 = formal12_1 * formal12_2\n",
    "    \n",
    "    # m * N * N * (d+1)\n",
    "    dw1 = np.dot(formal12_1_2.T, training_data_) / N\n",
    "    dw1 += (lambdaval / N) * w1\n",
    "    \n",
    "    # Make sure you reshape the gradient matrices to a 1D array. for instance if your gradient matrices are grad_w1 and grad_w2\n",
    "    # you would use code similar to the one below to create a flat array\n",
    "    # obj_grad = np.concatenate((grad_w1.flatten(), grad_w2.flatten()),0)\n",
    "    obj_grad = np.concatenate((dw1.flatten(), dw2.flatten()), 0)\n",
    "\n",
    "    return (obj_val, obj_grad)"
   ]
  },
  {
   "cell_type": "code",
   "execution_count": 5,
   "metadata": {},
   "outputs": [],
   "source": [
    "# Replace this with your nnPredict implementation\n",
    "def nnPredict(w1,w2,data):\n",
    "    \n",
    "    labels = np.array([])\n",
    "    # Your code here\n",
    "    \n",
    "    # forwardfeed first layer\n",
    "    training_data_ = np.hstack((data, np.zeros((data.shape[0], 1))))\n",
    "    a = np.dot(training_data_, w1.T)\n",
    "    z = sigmoid(a)\n",
    "    \n",
    "    # forwardfeed second layer\n",
    "    z_ = np.hstack((z, np.zeros((z.shape[0], 1))))\n",
    "    b = np.dot(z_, w2.T)\n",
    "    o = sigmoid(b)\n",
    "    \n",
    "    labels = np.argmax(o, axis=1)\n",
    "\n",
    "    return labels"
   ]
  },
  {
   "cell_type": "code",
   "execution_count": 6,
   "metadata": {},
   "outputs": [],
   "source": [
    "# Do not change this\n",
    "def preprocess():\n",
    "    pickle_obj = pickle.load(file=open('../data/face_all.pickle', 'rb'))\n",
    "    features = pickle_obj['Features']\n",
    "    labels = pickle_obj['Labels']\n",
    "    train_x = features[0:21100] / 255\n",
    "    valid_x = features[21100:23765] / 255\n",
    "    test_x = features[23765:] / 255\n",
    "\n",
    "    labels = labels[0]\n",
    "    train_y = labels[0:21100]\n",
    "    valid_y = labels[21100:23765]\n",
    "    test_y = labels[23765:]\n",
    "    return train_x, train_y, valid_x, valid_y, test_x, test_y"
   ]
  },
  {
   "cell_type": "code",
   "execution_count": null,
   "metadata": {},
   "outputs": [],
   "source": []
  },
  {
   "cell_type": "code",
   "execution_count": 16,
   "metadata": {},
   "outputs": [
    {
     "data": {
      "text/plain": [
       "(1, 26407)"
      ]
     },
     "execution_count": 16,
     "metadata": {},
     "output_type": "execute_result"
    }
   ],
   "source": [
    "pickle_obj = pickle.load(file=open('../data/face_all.pickle', 'rb'))\n",
    "pickle_obj['Features'].shape\n",
    "pickle_obj['Labels'].shape"
   ]
  },
  {
   "cell_type": "code",
   "execution_count": 7,
   "metadata": {},
   "outputs": [
    {
     "name": "stdout",
     "output_type": "stream",
     "text": [
      "\n",
      " Training set Accuracy:85.51184834123224%\n",
      "\n",
      " Validation set Accuracy:83.78986866791745%\n",
      "\n",
      " Test set Accuracy:85.42770628311885%\n"
     ]
    }
   ],
   "source": [
    "\"\"\"**************Neural Network Script Starts here********************************\"\"\"\n",
    "train_data, train_label, validation_data, validation_label, test_data, test_label = preprocess()\n",
    "#  Train Neural Network\n",
    "# set the number of nodes in input unit (not including bias unit)\n",
    "n_input = train_data.shape[1]\n",
    "# set the number of nodes in hidden unit (not including bias unit)\n",
    "n_hidden = 256\n",
    "# set the number of nodes in output unit\n",
    "n_class = 2\n",
    "\n",
    "# initialize the weights into some random matrices\n",
    "initial_w1 = initializeWeights(n_input, n_hidden);\n",
    "initial_w2 = initializeWeights(n_hidden, n_class);\n",
    "# unroll 2 weight matrices into single column vector\n",
    "initialWeights = np.concatenate((initial_w1.flatten(), initial_w2.flatten()),0)\n",
    "# set the regularization hyper-parameter\n",
    "lambdaval = 10;\n",
    "args = (n_input, n_hidden, n_class, train_data, train_label, lambdaval)\n",
    "\n",
    "#Train Neural Network using fmin_cg or minimize from scipy,optimize module. Check documentation for a working example\n",
    "opts = {'maxiter' :50}    # Preferred value.\n",
    "\n",
    "nn_params = minimize(nnObjFunction, initialWeights, jac=True, args=args,method='CG', options=opts)\n",
    "params = nn_params.get('x')\n",
    "#Reshape nnParams from 1D vector into w1 and w2 matrices\n",
    "w1 = params[0:n_hidden * (n_input + 1)].reshape( (n_hidden, (n_input + 1)))\n",
    "w2 = params[(n_hidden * (n_input + 1)):].reshape((n_class, (n_hidden + 1)))\n",
    "\n",
    "#Test the computed parameters\n",
    "predicted_label = nnPredict(w1,w2,train_data)\n",
    "#find the accuracy on Training Dataset\n",
    "print('\\n Training set Accuracy:' + str(100*np.mean((predicted_label == train_label).astype(float))) + '%')\n",
    "predicted_label = nnPredict(w1,w2,validation_data)\n",
    "#find the accuracy on Validation Dataset\n",
    "print('\\n Validation set Accuracy:' + str(100*np.mean((predicted_label == validation_label).astype(float))) + '%')\n",
    "predicted_label = nnPredict(w1,w2,test_data)\n",
    "#find the accuracy on Validation Dataset\n",
    "print('\\n Test set Accuracy:' +  str(100*np.mean((predicted_label == test_label).astype(float))) + '%')"
   ]
  }
 ],
 "metadata": {
  "kernelspec": {
   "display_name": "Python 3",
   "language": "python",
   "name": "python3"
  },
  "language_info": {
   "codemirror_mode": {
    "name": "ipython",
    "version": 3
   },
   "file_extension": ".py",
   "mimetype": "text/x-python",
   "name": "python",
   "nbconvert_exporter": "python",
   "pygments_lexer": "ipython3",
   "version": "3.6.4"
  }
 },
 "nbformat": 4,
 "nbformat_minor": 2
}
